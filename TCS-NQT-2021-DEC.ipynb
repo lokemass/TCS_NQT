{
 "cells": [
  {
   "cell_type": "code",
   "execution_count": 5,
   "id": "5d78b028",
   "metadata": {},
   "outputs": [
    {
     "name": "stdout",
     "output_type": "stream",
     "text": [
      "123523\n",
      "23\n",
      "15\n"
     ]
    }
   ],
   "source": [
    "a=input()\n",
    "b=input()\n",
    "al=list(a)\n",
    "bl=list(b)\n",
    "temp=str()\n",
    "for i in al:\n",
    "    if i in bl:\n",
    "        continue\n",
    "    else:\n",
    "        temp+=i\n",
    "print(temp)"
   ]
  },
  {
   "cell_type": "code",
   "execution_count": 6,
   "id": "758d87ba",
   "metadata": {},
   "outputs": [
    {
     "data": {
      "text/plain": [
       "15"
      ]
     },
     "execution_count": 6,
     "metadata": {},
     "output_type": "execute_result"
    }
   ],
   "source": [
    "123523\n",
    "23\n",
    "15"
   ]
  },
  {
   "cell_type": "code",
   "execution_count": 7,
   "id": "12c04ea6",
   "metadata": {},
   "outputs": [
    {
     "name": "stdout",
     "output_type": "stream",
     "text": [
      "1234252130230230\n",
      "10\n",
      "23425232323\n"
     ]
    }
   ],
   "source": [
    "a=input()\n",
    "b=input()\n",
    "al=list(a)\n",
    "bl=list(b)\n",
    "temp=str()\n",
    "for i in al:\n",
    "    if i in bl:\n",
    "        continue\n",
    "    else:\n",
    "        temp+=i\n",
    "print(temp)"
   ]
  },
  {
   "cell_type": "code",
   "execution_count": 8,
   "id": "7770b81a",
   "metadata": {},
   "outputs": [
    {
     "name": "stdout",
     "output_type": "stream",
     "text": [
      "2\n",
      "3\n",
      "1\n",
      "2\n",
      "0\n"
     ]
    }
   ],
   "source": [
    "n=int(input())\n",
    "x=int(input())\n",
    "arr=[]\n",
    "for i in range(n):\n",
    "    arr.append(int(input()))\n",
    "arr.sort()\n",
    "print(len(set(arr[x:])))"
   ]
  },
  {
   "cell_type": "markdown",
   "id": "d61f6cb7",
   "metadata": {},
   "source": []
  }
 ],
 "metadata": {
  "kernelspec": {
   "display_name": "Python 3 (ipykernel)",
   "language": "python",
   "name": "python3"
  },
  "language_info": {
   "codemirror_mode": {
    "name": "ipython",
    "version": 3
   },
   "file_extension": ".py",
   "mimetype": "text/x-python",
   "name": "python",
   "nbconvert_exporter": "python",
   "pygments_lexer": "ipython3",
   "version": "3.9.8"
  }
 },
 "nbformat": 4,
 "nbformat_minor": 5
}
